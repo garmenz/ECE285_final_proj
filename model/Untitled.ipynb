{
 "cells": [
  {
   "cell_type": "code",
   "execution_count": 3,
   "metadata": {},
   "outputs": [],
   "source": [
    "import torch.nn as nn\n",
    "model = nn.Sequential(\n",
    "        nn.Conv2d(3, 64, kernel_size=(4, 4), stride=(2, 2), padding=(1, 1), bias=False),\n",
    "        nn.LeakyReLU(negative_slope=0.2, inplace=True),\n",
    "        nn.Conv2d(64, 128, kernel_size=(4, 4), stride=(2, 2), padding=(1, 1), bias=False),\n",
    "        nn.BatchNorm2d(128, eps=1e-05, momentum=0.1, affine=True, track_running_stats=True),\n",
    "        nn.LeakyReLU(negative_slope=0.2, inplace=True),\n",
    "        nn.Conv2d(128, 256, kernel_size=(4, 4), stride=(2, 2), padding=(1, 1), bias=False),\n",
    "        nn.BatchNorm2d(256, eps=1e-05, momentum=0.1, affine=True, track_running_stats=True),\n",
    "        nn.LeakyReLU(negative_slope=0.2, inplace=True),\n",
    "        nn.Conv2d(256, 512, kernel_size=(4, 4), stride=(2, 2), padding=(1, 1), bias=False),\n",
    "        nn.BatchNorm2d(512, eps=1e-05, momentum=0.1, affine=True, track_running_stats=True),\n",
    "        nn.LeakyReLU(negative_slope=0.2, inplace=True),\n",
    "        nn.Conv2d(512, 512, kernel_size=(4, 4), stride=(2, 2), padding=(1, 1), bias=False),\n",
    "        nn. BatchNorm2d(512, eps=1e-05, momentum=0.1, affine=True, track_running_stats=True),\n",
    "        nn.LeakyReLU(negative_slope=0.2, inplace=True),\n",
    "        nn.Conv2d(512, 512, kernel_size=(4, 4), stride=(2, 2), padding=(1, 1), bias=False),\n",
    "        nn.BatchNorm2d(512, eps=1e-05, momentum=0.1, affine=True, track_running_stats=True),\n",
    "        nn.LeakyReLU(negative_slope=0.2, inplace=True),\n",
    "        nn.Conv2d(512, 512, kernel_size=(4, 4), stride=(2, 2), padding=(1, 1), bias=False),\n",
    "        nn.BatchNorm2d(512, eps=1e-05, momentum=0.1, affine=True, track_running_stats=True),\n",
    "        nn.LeakyReLU(negative_slope=0.2, inplace=True),\n",
    "        nn.Conv2d(512, 512, kernel_size=(4, 4), stride=(2, 2), padding=(1, 1), bias=False),\n",
    "        nn.ReLU(inplace=True),\n",
    "        nn.ConvTranspose2d(512, 512, kernel_size=(4, 4), stride=(2, 2), padding=(1, 1), bias=False),\n",
    "        nn.BatchNorm2d(512, eps=1e-05, momentum=0.1, affine=True, track_running_stats=True),\n",
    "        nn.ReLU(inplace=True),\n",
    "        nn.ConvTranspose2d(1024, 512, kernel_size=(4, 4), stride=(2, 2), padding=(1, 1), bias=False),\n",
    "        nn.BatchNorm2d(512, eps=1e-05, momentum=0.1, affine=True, track_running_stats=True),\n",
    "        nn.Dropout(p=0.5, inplace=False),\n",
    "        nn.ReLU(inplace=True),\n",
    "        nn.ConvTranspose2d(1024, 512, kernel_size=(4, 4), stride=(2, 2), padding=(1, 1), bias=False),\n",
    "        nn.BatchNorm2d(512, eps=1e-05, momentum=0.1, affine=True, track_running_stats=True),\n",
    "        nn.Dropout(p=0.5, inplace=False),\n",
    "        nn.ReLU(inplace=True),\n",
    "        nn.ConvTranspose2d(1024, 512, kernel_size=(4, 4), stride=(2, 2), padding=(1, 1), bias=False),\n",
    "        nn.BatchNorm2d(512, eps=1e-05, momentum=0.1, affine=True, track_running_stats=True),\n",
    "        nn.Dropout(p=0.5, inplace=False),\n",
    "        nn.ReLU(inplace=True),\n",
    "        nn.ConvTranspose2d(1024, 256, kernel_size=(4, 4), stride=(2, 2), padding=(1, 1), bias=False),\n",
    "        nn.BatchNorm2d(256, eps=1e-05, momentum=0.1, affine=True, track_running_stats=True),\n",
    "        nn.ReLU(inplace=True),\n",
    "        nn.ConvTranspose2d(512, 128, kernel_size=(4, 4), stride=(2, 2), padding=(1, 1), bias=False),\n",
    "        nn.BatchNorm2d(128, eps=1e-05, momentum=0.1, affine=True, track_running_stats=True),\n",
    "        nn.ReLU(inplace=True),\n",
    "        nn.ConvTranspose2d(256, 64, kernel_size=(4, 4), stride=(2, 2), padding=(1, 1), bias=False),\n",
    "        nn.BatchNorm2d(64, eps=1e-05, momentum=0.1, affine=True, track_running_stats=True),\n",
    "        nn.ReLU(inplace=True),\n",
    "        nn.ConvTranspose2d(128, 3, kernel_size=(4, 4), stride=(2, 2), padding=(1, 1))\n",
    "        )\n"
   ]
  },
  {
   "cell_type": "code",
   "execution_count": 1,
   "metadata": {},
   "outputs": [],
   "source": [
    "from generator import *\n",
    "model = UNetGenerator(3,3)"
   ]
  },
  {
   "cell_type": "code",
   "execution_count": 2,
   "metadata": {},
   "outputs": [],
   "source": [
    "import torch\n",
    "data = torch.randn(3,3,256,256)"
   ]
  },
  {
   "cell_type": "code",
   "execution_count": 12,
   "metadata": {},
   "outputs": [],
   "source": [
    "out = model(data)"
   ]
  },
  {
   "cell_type": "code",
   "execution_count": 11,
   "metadata": {},
   "outputs": [],
   "source": [
    "m2 = UnetGenerator(input_nc = 3, output_nc = 3, num_downs=8, use_dropout=False)"
   ]
  },
  {
   "cell_type": "code",
   "execution_count": 13,
   "metadata": {},
   "outputs": [],
   "source": [
    "out2 = m2(data)"
   ]
  },
  {
   "cell_type": "code",
   "execution_count": 15,
   "metadata": {},
   "outputs": [
    {
     "data": {
      "text/plain": [
       "tensor([[[[-1.1326,  0.4394,  0.6430,  ...,  1.6250, -0.9512,  1.5496],\n",
       "          [-0.2789, -0.4673, -0.6757,  ...,  0.2408, -0.1847,  0.4593],\n",
       "          [-0.5814, -0.0196,  1.6842,  ...,  1.0460, -0.1691, -0.3199],\n",
       "          ...,\n",
       "          [-1.2320,  0.3804,  0.2737,  ..., -0.2101, -1.1915,  0.8614],\n",
       "          [ 0.6727,  0.6518,  0.3639,  ..., -0.4237,  0.4219,  0.7277],\n",
       "          [-0.8190, -1.6635, -1.1883,  ..., -1.3496,  0.2771,  0.2061]],\n",
       "\n",
       "         [[ 0.8848,  0.7225,  0.0922,  ...,  0.6360,  0.9338,  0.4115],\n",
       "          [ 0.7289,  0.2212,  1.2269,  ...,  1.1989,  0.8760,  0.7329],\n",
       "          [ 0.8721, -0.1188,  0.8168,  ..., -1.8558,  0.4531, -0.8388],\n",
       "          ...,\n",
       "          [-0.4150, -0.4246,  0.1875,  ..., -0.4453,  0.5611, -0.0994],\n",
       "          [-0.4332,  0.0829, -0.1612,  ..., -0.9830, -0.3185,  0.2313],\n",
       "          [-0.2769, -0.1351,  0.5207,  ..., -0.7356,  0.3343,  1.0471]],\n",
       "\n",
       "         [[-0.3107,  0.2737,  0.1469,  ...,  0.5925, -0.0976, -0.3583],\n",
       "          [ 0.2385,  0.8589, -0.8021,  ..., -0.4587, -0.4199, -0.1800],\n",
       "          [-0.5523, -1.1335,  1.1143,  ..., -0.3297,  0.2699, -1.4819],\n",
       "          ...,\n",
       "          [ 0.1675,  0.4541, -0.7824,  ...,  0.9879,  0.8061, -0.9232],\n",
       "          [-0.5370, -1.4226,  1.4238,  ...,  0.1035,  0.1288, -0.7311],\n",
       "          [ 1.2818,  0.2798, -0.2202,  ..., -0.4168,  0.0605,  0.0600]]],\n",
       "\n",
       "\n",
       "        [[[-0.9084,  1.4078,  0.1386,  ...,  0.1821, -0.4888, -0.0567],\n",
       "          [-0.6708, -1.2313,  0.9818,  ..., -0.2346,  0.0102, -1.0231],\n",
       "          [-0.7646,  1.8620,  0.8704,  ...,  0.4368,  0.0448, -0.5228],\n",
       "          ...,\n",
       "          [ 0.3299, -1.3592, -0.0563,  ..., -0.8034, -0.7722,  0.5898],\n",
       "          [ 1.5157,  0.0988, -0.3176,  ...,  0.2461,  1.3447,  0.3721],\n",
       "          [-1.2695, -0.9018,  0.1896,  ...,  1.0718,  0.9286, -0.8933]],\n",
       "\n",
       "         [[-0.5007, -0.6354,  0.7786,  ...,  0.8224, -0.0182,  0.9169],\n",
       "          [ 0.3439,  1.6688, -0.5956,  ...,  0.4098,  0.2486, -0.9263],\n",
       "          [ 0.5474, -0.3378, -0.1418,  ..., -0.2021,  0.8340, -0.9327],\n",
       "          ...,\n",
       "          [ 0.3855, -0.3316,  1.0286,  ..., -1.4935,  0.0135, -1.1569],\n",
       "          [-0.7502,  0.0519, -0.5597,  ..., -0.7651,  0.7396,  0.4840],\n",
       "          [-0.8194,  0.1374, -1.0284,  ...,  0.5861, -1.0551,  0.3524]],\n",
       "\n",
       "         [[ 0.4782,  0.5494, -0.3489,  ..., -1.3875,  0.8338,  0.0170],\n",
       "          [-0.3937,  0.8675,  0.9176,  ..., -1.4640,  0.2888,  0.7776],\n",
       "          [ 0.7016, -0.9989,  0.1562,  ..., -1.7115, -0.1661, -0.1691],\n",
       "          ...,\n",
       "          [ 0.6865, -0.1013,  0.4695,  ..., -0.0965,  0.5607, -1.3921],\n",
       "          [ 0.5439, -0.7296,  0.5881,  ...,  0.0534,  1.4957, -0.1727],\n",
       "          [ 1.0251, -0.2949, -0.7166,  ...,  0.5901,  0.5231,  0.5947]]],\n",
       "\n",
       "\n",
       "        [[[ 0.4792,  1.1116,  0.3147,  ..., -0.2230,  0.2661,  0.8934],\n",
       "          [-0.6291,  0.4279,  1.6897,  ..., -1.6351, -1.3160,  0.2457],\n",
       "          [ 0.2849,  0.0114,  0.1834,  ..., -0.0155, -1.0154, -0.5684],\n",
       "          ...,\n",
       "          [ 0.1437, -1.5460,  0.1010,  ..., -0.0126,  0.0384,  0.2433],\n",
       "          [ 0.2966,  1.4570,  0.5507,  ...,  0.1818,  0.6538, -0.0977],\n",
       "          [-1.3932, -1.3314,  0.3550,  ..., -1.1340,  0.9125,  0.9082]],\n",
       "\n",
       "         [[ 0.4045,  0.0210,  0.4048,  ..., -0.3349, -0.8664, -0.9817],\n",
       "          [-0.1157, -0.0334,  0.1254,  ...,  0.8153,  0.2367, -0.8504],\n",
       "          [-1.1032, -0.9123, -0.3904,  ..., -0.1907, -0.4034,  0.1711],\n",
       "          ...,\n",
       "          [-0.4885, -0.0237,  0.0539,  ..., -0.5235,  0.0694, -0.0564],\n",
       "          [-0.2011,  0.0832, -0.4647,  ..., -1.8037,  0.1405,  0.8460],\n",
       "          [ 1.0075,  0.9783, -1.5625,  ..., -0.5958, -0.2158,  0.0205]],\n",
       "\n",
       "         [[ 0.8171,  0.4793,  0.1033,  ...,  0.1546, -0.5277, -0.8136],\n",
       "          [ 1.0067, -0.1805,  0.0468,  ..., -0.4064,  0.3175,  0.8151],\n",
       "          [-0.2432, -1.1228,  1.2062,  ...,  0.2047,  0.7279, -0.7298],\n",
       "          ...,\n",
       "          [ 1.8044,  0.5086,  1.0368,  ...,  0.6433,  0.2776, -1.1789],\n",
       "          [ 0.2630, -0.8391,  0.1654,  ..., -0.2653,  1.8031,  0.2269],\n",
       "          [-0.5116, -0.2234,  0.1384,  ...,  1.0370,  0.1991, -0.8896]]]],\n",
       "       grad_fn=<SubBackward0>)"
      ]
     },
     "execution_count": 15,
     "metadata": {},
     "output_type": "execute_result"
    }
   ],
   "source": [
    "out - out2"
   ]
  },
  {
   "cell_type": "code",
   "execution_count": 16,
   "metadata": {},
   "outputs": [
    {
     "data": {
      "text/plain": [
       "UnetGenerator(\n",
       "  (model): UnetSkipConnectionBlock(\n",
       "    (model): Sequential(\n",
       "      (0): Conv2d(3, 64, kernel_size=(4, 4), stride=(2, 2), padding=(1, 1), bias=False)\n",
       "      (1): UnetSkipConnectionBlock(\n",
       "        (model): Sequential(\n",
       "          (0): LeakyReLU(negative_slope=0.2, inplace=True)\n",
       "          (1): Conv2d(64, 128, kernel_size=(4, 4), stride=(2, 2), padding=(1, 1), bias=False)\n",
       "          (2): BatchNorm2d(128, eps=1e-05, momentum=0.1, affine=True, track_running_stats=True)\n",
       "          (3): UnetSkipConnectionBlock(\n",
       "            (model): Sequential(\n",
       "              (0): LeakyReLU(negative_slope=0.2, inplace=True)\n",
       "              (1): Conv2d(128, 256, kernel_size=(4, 4), stride=(2, 2), padding=(1, 1), bias=False)\n",
       "              (2): BatchNorm2d(256, eps=1e-05, momentum=0.1, affine=True, track_running_stats=True)\n",
       "              (3): UnetSkipConnectionBlock(\n",
       "                (model): Sequential(\n",
       "                  (0): LeakyReLU(negative_slope=0.2, inplace=True)\n",
       "                  (1): Conv2d(256, 512, kernel_size=(4, 4), stride=(2, 2), padding=(1, 1), bias=False)\n",
       "                  (2): BatchNorm2d(512, eps=1e-05, momentum=0.1, affine=True, track_running_stats=True)\n",
       "                  (3): UnetSkipConnectionBlock(\n",
       "                    (model): Sequential(\n",
       "                      (0): LeakyReLU(negative_slope=0.2, inplace=True)\n",
       "                      (1): Conv2d(512, 512, kernel_size=(4, 4), stride=(2, 2), padding=(1, 1), bias=False)\n",
       "                      (2): BatchNorm2d(512, eps=1e-05, momentum=0.1, affine=True, track_running_stats=True)\n",
       "                      (3): UnetSkipConnectionBlock(\n",
       "                        (model): Sequential(\n",
       "                          (0): LeakyReLU(negative_slope=0.2, inplace=True)\n",
       "                          (1): Conv2d(512, 512, kernel_size=(4, 4), stride=(2, 2), padding=(1, 1), bias=False)\n",
       "                          (2): BatchNorm2d(512, eps=1e-05, momentum=0.1, affine=True, track_running_stats=True)\n",
       "                          (3): UnetSkipConnectionBlock(\n",
       "                            (model): Sequential(\n",
       "                              (0): LeakyReLU(negative_slope=0.2, inplace=True)\n",
       "                              (1): Conv2d(512, 512, kernel_size=(4, 4), stride=(2, 2), padding=(1, 1), bias=False)\n",
       "                              (2): BatchNorm2d(512, eps=1e-05, momentum=0.1, affine=True, track_running_stats=True)\n",
       "                              (3): UnetSkipConnectionBlock(\n",
       "                                (model): Sequential(\n",
       "                                  (0): LeakyReLU(negative_slope=0.2, inplace=True)\n",
       "                                  (1): Conv2d(512, 512, kernel_size=(4, 4), stride=(2, 2), padding=(1, 1), bias=False)\n",
       "                                  (2): ReLU(inplace=True)\n",
       "                                  (3): ConvTranspose2d(512, 512, kernel_size=(4, 4), stride=(2, 2), padding=(1, 1), bias=False)\n",
       "                                  (4): BatchNorm2d(512, eps=1e-05, momentum=0.1, affine=True, track_running_stats=True)\n",
       "                                )\n",
       "                              )\n",
       "                              (4): ReLU(inplace=True)\n",
       "                              (5): ConvTranspose2d(1024, 512, kernel_size=(4, 4), stride=(2, 2), padding=(1, 1), bias=False)\n",
       "                              (6): BatchNorm2d(512, eps=1e-05, momentum=0.1, affine=True, track_running_stats=True)\n",
       "                            )\n",
       "                          )\n",
       "                          (4): ReLU(inplace=True)\n",
       "                          (5): ConvTranspose2d(1024, 512, kernel_size=(4, 4), stride=(2, 2), padding=(1, 1), bias=False)\n",
       "                          (6): BatchNorm2d(512, eps=1e-05, momentum=0.1, affine=True, track_running_stats=True)\n",
       "                        )\n",
       "                      )\n",
       "                      (4): ReLU(inplace=True)\n",
       "                      (5): ConvTranspose2d(1024, 512, kernel_size=(4, 4), stride=(2, 2), padding=(1, 1), bias=False)\n",
       "                      (6): BatchNorm2d(512, eps=1e-05, momentum=0.1, affine=True, track_running_stats=True)\n",
       "                    )\n",
       "                  )\n",
       "                  (4): ReLU(inplace=True)\n",
       "                  (5): ConvTranspose2d(1024, 256, kernel_size=(4, 4), stride=(2, 2), padding=(1, 1), bias=False)\n",
       "                  (6): BatchNorm2d(256, eps=1e-05, momentum=0.1, affine=True, track_running_stats=True)\n",
       "                )\n",
       "              )\n",
       "              (4): ReLU(inplace=True)\n",
       "              (5): ConvTranspose2d(512, 128, kernel_size=(4, 4), stride=(2, 2), padding=(1, 1), bias=False)\n",
       "              (6): BatchNorm2d(128, eps=1e-05, momentum=0.1, affine=True, track_running_stats=True)\n",
       "            )\n",
       "          )\n",
       "          (4): ReLU(inplace=True)\n",
       "          (5): ConvTranspose2d(256, 64, kernel_size=(4, 4), stride=(2, 2), padding=(1, 1), bias=False)\n",
       "          (6): BatchNorm2d(64, eps=1e-05, momentum=0.1, affine=True, track_running_stats=True)\n",
       "        )\n",
       "      )\n",
       "      (2): ReLU(inplace=True)\n",
       "      (3): ConvTranspose2d(128, 3, kernel_size=(4, 4), stride=(2, 2), padding=(1, 1))\n",
       "      (4): Tanh()\n",
       "    )\n",
       "  )\n",
       ")"
      ]
     },
     "execution_count": 16,
     "metadata": {},
     "output_type": "execute_result"
    }
   ],
   "source": [
    "m2"
   ]
  },
  {
   "cell_type": "code",
   "execution_count": 5,
   "metadata": {},
   "outputs": [],
   "source": [
    "from generator import *\n",
    "m2 = UnetGenerator(input_nc = 3, output_nc = 3, num_downs=8, use_dropout=False)"
   ]
  },
  {
   "cell_type": "code",
   "execution_count": 7,
   "metadata": {},
   "outputs": [
    {
     "data": {
      "text/plain": [
       "UnetGenerator(\n",
       "  (model): UnetSkipConnectionBlock(\n",
       "    (model): Sequential(\n",
       "      (0): LeakyReLU(negative_slope=0.2, inplace=True)\n",
       "      (1): Conv2d(512, 512, kernel_size=(4, 4), stride=(2, 2), padding=(1, 1), bias=False)\n",
       "      (2): ReLU(inplace=True)\n",
       "      (3): ConvTranspose2d(512, 512, kernel_size=(4, 4), stride=(2, 2), padding=(1, 1), bias=False)\n",
       "      (4): BatchNorm2d(512, eps=1e-05, momentum=0.1, affine=True, track_running_stats=True)\n",
       "    )\n",
       "  )\n",
       ")"
      ]
     },
     "execution_count": 7,
     "metadata": {},
     "output_type": "execute_result"
    }
   ],
   "source": [
    "m2"
   ]
  },
  {
   "cell_type": "code",
   "execution_count": 1,
   "metadata": {},
   "outputs": [
    {
     "data": {
      "text/plain": [
       "UnetGenerator(\n",
       "  (model): UnetSkipConnectionBlock(\n",
       "    (model): Sequential(\n",
       "      (0): LeakyReLU(negative_slope=0.2, inplace=True)\n",
       "      (1): Conv2d(512, 512, kernel_size=(4, 4), stride=(2, 2), padding=(1, 1), bias=False)\n",
       "      (2): BatchNorm2d(512, eps=1e-05, momentum=0.1, affine=True, track_running_stats=True)\n",
       "      (3): UnetSkipConnectionBlock(\n",
       "        (model): Sequential(\n",
       "          (0): LeakyReLU(negative_slope=0.2, inplace=True)\n",
       "          (1): Conv2d(512, 512, kernel_size=(4, 4), stride=(2, 2), padding=(1, 1), bias=False)\n",
       "          (2): ReLU(inplace=True)\n",
       "          (3): ConvTranspose2d(512, 512, kernel_size=(4, 4), stride=(2, 2), padding=(1, 1), bias=False)\n",
       "          (4): BatchNorm2d(512, eps=1e-05, momentum=0.1, affine=True, track_running_stats=True)\n",
       "        )\n",
       "      )\n",
       "      (4): ReLU(inplace=True)\n",
       "      (5): ConvTranspose2d(1024, 512, kernel_size=(4, 4), stride=(2, 2), padding=(1, 1), bias=False)\n",
       "      (6): BatchNorm2d(512, eps=1e-05, momentum=0.1, affine=True, track_running_stats=True)\n",
       "    )\n",
       "  )\n",
       ")"
      ]
     },
     "execution_count": 1,
     "metadata": {},
     "output_type": "execute_result"
    }
   ],
   "source": [
    "from generator import *\n",
    "m2 = UnetGenerator(input_nc = 3, output_nc = 3, num_downs=8, use_dropout=False)\n",
    "m2"
   ]
  },
  {
   "cell_type": "code",
   "execution_count": null,
   "metadata": {},
   "outputs": [],
   "source": [
    "import torch\n",
    "data = torch.randn(512,512,256,256)\n",
    "m2(data)"
   ]
  },
  {
   "cell_type": "code",
   "execution_count": 1,
   "metadata": {},
   "outputs": [],
   "source": [
    "import torch.nn as nn\n",
    "net = nn.Sequential(\n",
    "        \n",
    "            nn.Conv2d(3,64,3),\n",
    "            nn.ConvTranspose2d(128,64,4)\n",
    ")"
   ]
  },
  {
   "cell_type": "code",
   "execution_count": null,
   "metadata": {},
   "outputs": [],
   "source": [
    "import torch\n",
    "data = torch.randn(512,512,256,256)\n",
    "net.to(torch.device('cuda:0'))\n",
    "# net(data)"
   ]
  },
  {
   "cell_type": "code",
   "execution_count": null,
   "metadata": {},
   "outputs": [],
   "source": []
  }
 ],
 "metadata": {
  "kernelspec": {
   "display_name": "ml-latest",
   "language": "python",
   "name": "ml-latest"
  },
  "language_info": {
   "codemirror_mode": {
    "name": "ipython",
    "version": 3
   },
   "file_extension": ".py",
   "mimetype": "text/x-python",
   "name": "python",
   "nbconvert_exporter": "python",
   "pygments_lexer": "ipython3",
   "version": "3.8.6"
  }
 },
 "nbformat": 4,
 "nbformat_minor": 4
}
